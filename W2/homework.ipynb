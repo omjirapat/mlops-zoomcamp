{
 "cells": [
  {
   "cell_type": "code",
   "execution_count": 1,
   "id": "aa05369d-2acf-470c-b25e-4aa8a3911104",
   "metadata": {},
   "outputs": [
    {
     "data": {
      "text/plain": [
       "'2.13.0'"
      ]
     },
     "execution_count": 1,
     "metadata": {},
     "output_type": "execute_result"
    }
   ],
   "source": [
    "import mlflow\n",
    "\n",
    "mlflow.__version__"
   ]
  },
  {
   "cell_type": "code",
   "execution_count": 2,
   "id": "14f9d115-e224-4ecf-a94c-62c5b205c0b3",
   "metadata": {},
   "outputs": [],
   "source": [
    "import pandas as pd\n",
    "\n",
    "df_jan = pd.read_parquet(\n",
    "    \"https://d37ci6vzurychx.cloudfront.net/trip-data/green_tripdata_2023-01.parquet\"\n",
    ")\n",
    "df_feb = pd.read_parquet(\n",
    "    \"https://d37ci6vzurychx.cloudfront.net/trip-data/green_tripdata_2023-02.parquet\"\n",
    ")\n",
    "df_mar = pd.read_parquet(\n",
    "    \"https://d37ci6vzurychx.cloudfront.net/trip-data/green_tripdata_2023-03.parquet\"\n",
    ")\n",
    "df_jan.to_parquet(\"./data/green_tripdata_2023-01.parquet\")\n",
    "df_feb.to_parquet(\"./data/green_tripdata_2023-02.parquet\")\n",
    "df_mar.to_parquet(\"./data/green_tripdata_2023-03.parquet\")"
   ]
  },
  {
   "cell_type": "code",
   "execution_count": 3,
   "id": "88898874-5a02-48d2-8777-447db35dfbf4",
   "metadata": {},
   "outputs": [],
   "source": [
    "!python homework/preprocess_data.py --raw_data_path ./data/ --dest_path ./output"
   ]
  },
  {
   "cell_type": "code",
   "execution_count": 4,
   "id": "5fa6c628-0ff0-4d31-891d-447e9875c1ec",
   "metadata": {},
   "outputs": [],
   "source": [
    "from mlflow.tracking import MlflowClient\n",
    "\n",
    "mlflow_tracking_uri = \"sqlite:///mlflow.db\"\n",
    "client = MlflowClient(tracking_uri=mlflow_tracking_uri)"
   ]
  },
  {
   "cell_type": "code",
   "execution_count": 5,
   "id": "a4aad5e4-7162-4d34-bc89-bf0938300e14",
   "metadata": {},
   "outputs": [
    {
     "data": {
      "text/plain": [
       "'3'"
      ]
     },
     "execution_count": 5,
     "metadata": {},
     "output_type": "execute_result"
    }
   ],
   "source": [
    "client.create_experiment(\"homework_W2\")"
   ]
  },
  {
   "cell_type": "code",
   "execution_count": 6,
   "id": "72849d3a-62c9-4a7d-944b-966c56bdc1a1",
   "metadata": {},
   "outputs": [
    {
     "name": "stderr",
     "output_type": "stream",
     "text": [
      "2024/05/23 00:20:04 INFO mlflow.tracking.fluent: Autologging successfully enabled for sklearn.\n",
      "2024/05/23 00:20:04 WARNING mlflow.spark: With Pyspark >= 3.2, PYSPARK_PIN_THREAD environment variable must be set to false for Spark datasource autologging to work.\n",
      "2024/05/23 00:20:04 INFO mlflow.tracking.fluent: Autologging successfully enabled for pyspark.\n",
      "2024/05/23 00:20:04 WARNING mlflow.sklearn: Failed to log training dataset information to MLflow Tracking. Reason: 'numpy.ndarray' object has no attribute 'toarray'\n",
      "2024/05/23 00:20:27 WARNING mlflow.utils.autologging_utils: MLflow autologging encountered a warning: \"C:\\Users\\ADMIN\\AppData\\Local\\pypoetry\\Cache\\virtualenvs\\mlops-zoomcamp-Jz8pfJr8-py3.11\\Lib\\site-packages\\_distutils_hack\\__init__.py:26: UserWarning: Setuptools is replacing distutils.\"\n",
      "C:\\Users\\ADMIN\\AppData\\Local\\pypoetry\\Cache\\virtualenvs\\mlops-zoomcamp-Jz8pfJr8-py3.11\\Lib\\site-packages\\sklearn\\metrics\\_regression.py:483: FutureWarning: 'squared' is deprecated in version 1.4 and will be removed in 1.6. To calculate the root mean squared error, use the function'root_mean_squared_error'.\n",
      "  warnings.warn(\n"
     ]
    }
   ],
   "source": [
    "!python homework/train.py --data_path ./output"
   ]
  },
  {
   "cell_type": "code",
   "execution_count": 7,
   "id": "e89a8a67-cbeb-4a37-8cca-36f1175b5322",
   "metadata": {},
   "outputs": [
    {
     "name": "stdout",
     "output_type": "stream",
     "text": [
      "\n",
      "  0%|          | 0/15 [00:00<?, ?trial/s, best loss=?]\n",
      "  7%|6         | 1/15 [00:09<02:19,  9.94s/trial, best loss: 5.370086069268862]\n",
      " 13%|#3        | 2/15 [00:10<00:57,  4.44s/trial, best loss: 5.370086069268862]\n",
      " 20%|##        | 3/15 [00:11<00:33,  2.78s/trial, best loss: 5.370086069268862]\n",
      " 27%|##6       | 4/15 [00:18<00:48,  4.41s/trial, best loss: 5.357490752366866]\n",
      " 33%|###3      | 5/15 [00:21<00:40,  4.07s/trial, best loss: 5.357490752366866]\n",
      " 40%|####      | 6/15 [00:33<01:00,  6.68s/trial, best loss: 5.354695072530291]\n",
      " 47%|####6     | 7/15 [00:45<01:07,  8.50s/trial, best loss: 5.354695072530291]\n",
      " 53%|#####3    | 8/15 [00:46<00:43,  6.19s/trial, best loss: 5.354695072530291]\n",
      " 60%|######    | 9/15 [00:54<00:39,  6.63s/trial, best loss: 5.354695072530291]\n",
      " 67%|######6   | 10/15 [01:00<00:32,  6.53s/trial, best loss: 5.354695072530291]\n",
      " 73%|#######3  | 11/15 [01:05<00:23,  6.00s/trial, best loss: 5.335419588556921]\n",
      " 80%|########  | 12/15 [01:09<00:15,  5.31s/trial, best loss: 5.335419588556921]\n",
      " 87%|########6 | 13/15 [01:10<00:08,  4.11s/trial, best loss: 5.335419588556921]\n",
      " 93%|#########3| 14/15 [01:15<00:04,  4.19s/trial, best loss: 5.335419588556921]\n",
      "100%|##########| 15/15 [01:21<00:00,  4.93s/trial, best loss: 5.335419588556921]\n",
      "100%|##########| 15/15 [01:21<00:00,  5.45s/trial, best loss: 5.335419588556921]\n"
     ]
    },
    {
     "name": "stderr",
     "output_type": "stream",
     "text": [
      "2024/05/23 00:35:26 INFO mlflow.tracking.fluent: Experiment with name 'random-forest-hyperopt' does not exist. Creating a new experiment.\n",
      "C:\\Users\\ADMIN\\AppData\\Local\\pypoetry\\Cache\\virtualenvs\\mlops-zoomcamp-Jz8pfJr8-py3.11\\Lib\\site-packages\\sklearn\\metrics\\_regression.py:483: FutureWarning: 'squared' is deprecated in version 1.4 and will be removed in 1.6. To calculate the root mean squared error, use the function'root_mean_squared_error'.\n",
      "  warnings.warn(\n",
      "\n",
      "C:\\Users\\ADMIN\\AppData\\Local\\pypoetry\\Cache\\virtualenvs\\mlops-zoomcamp-Jz8pfJr8-py3.11\\Lib\\site-packages\\sklearn\\metrics\\_regression.py:483: FutureWarning: 'squared' is deprecated in version 1.4 and will be removed in 1.6. To calculate the root mean squared error, use the function'root_mean_squared_error'.\n",
      "  warnings.warn(\n",
      "\n",
      "C:\\Users\\ADMIN\\AppData\\Local\\pypoetry\\Cache\\virtualenvs\\mlops-zoomcamp-Jz8pfJr8-py3.11\\Lib\\site-packages\\sklearn\\metrics\\_regression.py:483: FutureWarning: 'squared' is deprecated in version 1.4 and will be removed in 1.6. To calculate the root mean squared error, use the function'root_mean_squared_error'.\n",
      "  warnings.warn(\n",
      "\n",
      "C:\\Users\\ADMIN\\AppData\\Local\\pypoetry\\Cache\\virtualenvs\\mlops-zoomcamp-Jz8pfJr8-py3.11\\Lib\\site-packages\\sklearn\\metrics\\_regression.py:483: FutureWarning: 'squared' is deprecated in version 1.4 and will be removed in 1.6. To calculate the root mean squared error, use the function'root_mean_squared_error'.\n",
      "  warnings.warn(\n",
      "\n",
      "C:\\Users\\ADMIN\\AppData\\Local\\pypoetry\\Cache\\virtualenvs\\mlops-zoomcamp-Jz8pfJr8-py3.11\\Lib\\site-packages\\sklearn\\metrics\\_regression.py:483: FutureWarning: 'squared' is deprecated in version 1.4 and will be removed in 1.6. To calculate the root mean squared error, use the function'root_mean_squared_error'.\n",
      "  warnings.warn(\n",
      "\n",
      "C:\\Users\\ADMIN\\AppData\\Local\\pypoetry\\Cache\\virtualenvs\\mlops-zoomcamp-Jz8pfJr8-py3.11\\Lib\\site-packages\\sklearn\\metrics\\_regression.py:483: FutureWarning: 'squared' is deprecated in version 1.4 and will be removed in 1.6. To calculate the root mean squared error, use the function'root_mean_squared_error'.\n",
      "  warnings.warn(\n",
      "\n",
      "C:\\Users\\ADMIN\\AppData\\Local\\pypoetry\\Cache\\virtualenvs\\mlops-zoomcamp-Jz8pfJr8-py3.11\\Lib\\site-packages\\sklearn\\metrics\\_regression.py:483: FutureWarning: 'squared' is deprecated in version 1.4 and will be removed in 1.6. To calculate the root mean squared error, use the function'root_mean_squared_error'.\n",
      "  warnings.warn(\n",
      "\n",
      "C:\\Users\\ADMIN\\AppData\\Local\\pypoetry\\Cache\\virtualenvs\\mlops-zoomcamp-Jz8pfJr8-py3.11\\Lib\\site-packages\\sklearn\\metrics\\_regression.py:483: FutureWarning: 'squared' is deprecated in version 1.4 and will be removed in 1.6. To calculate the root mean squared error, use the function'root_mean_squared_error'.\n",
      "  warnings.warn(\n",
      "\n",
      "C:\\Users\\ADMIN\\AppData\\Local\\pypoetry\\Cache\\virtualenvs\\mlops-zoomcamp-Jz8pfJr8-py3.11\\Lib\\site-packages\\sklearn\\metrics\\_regression.py:483: FutureWarning: 'squared' is deprecated in version 1.4 and will be removed in 1.6. To calculate the root mean squared error, use the function'root_mean_squared_error'.\n",
      "  warnings.warn(\n",
      "\n",
      "C:\\Users\\ADMIN\\AppData\\Local\\pypoetry\\Cache\\virtualenvs\\mlops-zoomcamp-Jz8pfJr8-py3.11\\Lib\\site-packages\\sklearn\\metrics\\_regression.py:483: FutureWarning: 'squared' is deprecated in version 1.4 and will be removed in 1.6. To calculate the root mean squared error, use the function'root_mean_squared_error'.\n",
      "  warnings.warn(\n",
      "\n",
      "C:\\Users\\ADMIN\\AppData\\Local\\pypoetry\\Cache\\virtualenvs\\mlops-zoomcamp-Jz8pfJr8-py3.11\\Lib\\site-packages\\sklearn\\metrics\\_regression.py:483: FutureWarning: 'squared' is deprecated in version 1.4 and will be removed in 1.6. To calculate the root mean squared error, use the function'root_mean_squared_error'.\n",
      "  warnings.warn(\n",
      "\n",
      "C:\\Users\\ADMIN\\AppData\\Local\\pypoetry\\Cache\\virtualenvs\\mlops-zoomcamp-Jz8pfJr8-py3.11\\Lib\\site-packages\\sklearn\\metrics\\_regression.py:483: FutureWarning: 'squared' is deprecated in version 1.4 and will be removed in 1.6. To calculate the root mean squared error, use the function'root_mean_squared_error'.\n",
      "  warnings.warn(\n",
      "\n",
      "C:\\Users\\ADMIN\\AppData\\Local\\pypoetry\\Cache\\virtualenvs\\mlops-zoomcamp-Jz8pfJr8-py3.11\\Lib\\site-packages\\sklearn\\metrics\\_regression.py:483: FutureWarning: 'squared' is deprecated in version 1.4 and will be removed in 1.6. To calculate the root mean squared error, use the function'root_mean_squared_error'.\n",
      "  warnings.warn(\n",
      "\n",
      "C:\\Users\\ADMIN\\AppData\\Local\\pypoetry\\Cache\\virtualenvs\\mlops-zoomcamp-Jz8pfJr8-py3.11\\Lib\\site-packages\\sklearn\\metrics\\_regression.py:483: FutureWarning: 'squared' is deprecated in version 1.4 and will be removed in 1.6. To calculate the root mean squared error, use the function'root_mean_squared_error'.\n",
      "  warnings.warn(\n",
      "\n",
      "C:\\Users\\ADMIN\\AppData\\Local\\pypoetry\\Cache\\virtualenvs\\mlops-zoomcamp-Jz8pfJr8-py3.11\\Lib\\site-packages\\sklearn\\metrics\\_regression.py:483: FutureWarning: 'squared' is deprecated in version 1.4 and will be removed in 1.6. To calculate the root mean squared error, use the function'root_mean_squared_error'.\n",
      "  warnings.warn(\n",
      "\n"
     ]
    }
   ],
   "source": [
    "!python homework/hpo.py"
   ]
  },
  {
   "cell_type": "code",
   "execution_count": 8,
   "id": "567cef9f-0809-4a9c-8880-88aac4e6fb62",
   "metadata": {},
   "outputs": [
    {
     "name": "stderr",
     "output_type": "stream",
     "text": [
      "2024/05/23 00:41:55 INFO mlflow.tracking.fluent: Experiment with name 'random-forest-best-models' does not exist. Creating a new experiment.\n",
      "2024/05/23 00:41:56 WARNING mlflow.sklearn: Failed to log training dataset information to MLflow Tracking. Reason: 'numpy.ndarray' object has no attribute 'toarray'\n",
      "2024/05/23 00:42:03 WARNING mlflow.utils.autologging_utils: MLflow autologging encountered a warning: \"C:\\Users\\ADMIN\\AppData\\Local\\pypoetry\\Cache\\virtualenvs\\mlops-zoomcamp-Jz8pfJr8-py3.11\\Lib\\site-packages\\_distutils_hack\\__init__.py:26: UserWarning: Setuptools is replacing distutils.\"\n",
      "C:\\Users\\ADMIN\\AppData\\Local\\pypoetry\\Cache\\virtualenvs\\mlops-zoomcamp-Jz8pfJr8-py3.11\\Lib\\site-packages\\sklearn\\metrics\\_regression.py:483: FutureWarning: 'squared' is deprecated in version 1.4 and will be removed in 1.6. To calculate the root mean squared error, use the function'root_mean_squared_error'.\n",
      "  warnings.warn(\n",
      "C:\\Users\\ADMIN\\AppData\\Local\\pypoetry\\Cache\\virtualenvs\\mlops-zoomcamp-Jz8pfJr8-py3.11\\Lib\\site-packages\\sklearn\\metrics\\_regression.py:483: FutureWarning: 'squared' is deprecated in version 1.4 and will be removed in 1.6. To calculate the root mean squared error, use the function'root_mean_squared_error'.\n",
      "  warnings.warn(\n",
      "2024/05/23 00:42:10 WARNING mlflow.sklearn: Failed to log training dataset information to MLflow Tracking. Reason: 'numpy.ndarray' object has no attribute 'toarray'\n",
      "C:\\Users\\ADMIN\\AppData\\Local\\pypoetry\\Cache\\virtualenvs\\mlops-zoomcamp-Jz8pfJr8-py3.11\\Lib\\site-packages\\sklearn\\metrics\\_regression.py:483: FutureWarning: 'squared' is deprecated in version 1.4 and will be removed in 1.6. To calculate the root mean squared error, use the function'root_mean_squared_error'.\n",
      "  warnings.warn(\n",
      "C:\\Users\\ADMIN\\AppData\\Local\\pypoetry\\Cache\\virtualenvs\\mlops-zoomcamp-Jz8pfJr8-py3.11\\Lib\\site-packages\\sklearn\\metrics\\_regression.py:483: FutureWarning: 'squared' is deprecated in version 1.4 and will be removed in 1.6. To calculate the root mean squared error, use the function'root_mean_squared_error'.\n",
      "  warnings.warn(\n",
      "2024/05/23 00:42:31 WARNING mlflow.sklearn: Failed to log training dataset information to MLflow Tracking. Reason: 'numpy.ndarray' object has no attribute 'toarray'\n",
      "C:\\Users\\ADMIN\\AppData\\Local\\pypoetry\\Cache\\virtualenvs\\mlops-zoomcamp-Jz8pfJr8-py3.11\\Lib\\site-packages\\sklearn\\metrics\\_regression.py:483: FutureWarning: 'squared' is deprecated in version 1.4 and will be removed in 1.6. To calculate the root mean squared error, use the function'root_mean_squared_error'.\n",
      "  warnings.warn(\n",
      "C:\\Users\\ADMIN\\AppData\\Local\\pypoetry\\Cache\\virtualenvs\\mlops-zoomcamp-Jz8pfJr8-py3.11\\Lib\\site-packages\\sklearn\\metrics\\_regression.py:483: FutureWarning: 'squared' is deprecated in version 1.4 and will be removed in 1.6. To calculate the root mean squared error, use the function'root_mean_squared_error'.\n",
      "  warnings.warn(\n",
      "2024/05/23 00:42:45 WARNING mlflow.sklearn: Failed to log training dataset information to MLflow Tracking. Reason: 'numpy.ndarray' object has no attribute 'toarray'\n",
      "C:\\Users\\ADMIN\\AppData\\Local\\pypoetry\\Cache\\virtualenvs\\mlops-zoomcamp-Jz8pfJr8-py3.11\\Lib\\site-packages\\sklearn\\metrics\\_regression.py:483: FutureWarning: 'squared' is deprecated in version 1.4 and will be removed in 1.6. To calculate the root mean squared error, use the function'root_mean_squared_error'.\n",
      "  warnings.warn(\n",
      "C:\\Users\\ADMIN\\AppData\\Local\\pypoetry\\Cache\\virtualenvs\\mlops-zoomcamp-Jz8pfJr8-py3.11\\Lib\\site-packages\\sklearn\\metrics\\_regression.py:483: FutureWarning: 'squared' is deprecated in version 1.4 and will be removed in 1.6. To calculate the root mean squared error, use the function'root_mean_squared_error'.\n",
      "  warnings.warn(\n",
      "2024/05/23 00:42:57 WARNING mlflow.sklearn: Failed to log training dataset information to MLflow Tracking. Reason: 'numpy.ndarray' object has no attribute 'toarray'\n",
      "C:\\Users\\ADMIN\\AppData\\Local\\pypoetry\\Cache\\virtualenvs\\mlops-zoomcamp-Jz8pfJr8-py3.11\\Lib\\site-packages\\sklearn\\metrics\\_regression.py:483: FutureWarning: 'squared' is deprecated in version 1.4 and will be removed in 1.6. To calculate the root mean squared error, use the function'root_mean_squared_error'.\n",
      "  warnings.warn(\n",
      "C:\\Users\\ADMIN\\AppData\\Local\\pypoetry\\Cache\\virtualenvs\\mlops-zoomcamp-Jz8pfJr8-py3.11\\Lib\\site-packages\\sklearn\\metrics\\_regression.py:483: FutureWarning: 'squared' is deprecated in version 1.4 and will be removed in 1.6. To calculate the root mean squared error, use the function'root_mean_squared_error'.\n",
      "  warnings.warn(\n",
      "Successfully registered model 'random-forest-best-model'.\n",
      "2024/05/23 00:43:09 INFO mlflow.store.model_registry.abstract_store: Waiting up to 300 seconds for model version to finish creation. Model name: random-forest-best-model, version 1\n",
      "Created version '1' of model 'random-forest-best-model'.\n"
     ]
    }
   ],
   "source": [
    "!python homework/register_model.py"
   ]
  }
 ],
 "metadata": {
  "kernelspec": {
   "display_name": "Python 3 (ipykernel)",
   "language": "python",
   "name": "python3"
  },
  "language_info": {
   "codemirror_mode": {
    "name": "ipython",
    "version": 3
   },
   "file_extension": ".py",
   "mimetype": "text/x-python",
   "name": "python",
   "nbconvert_exporter": "python",
   "pygments_lexer": "ipython3",
   "version": "3.11.4"
  }
 },
 "nbformat": 4,
 "nbformat_minor": 5
}
